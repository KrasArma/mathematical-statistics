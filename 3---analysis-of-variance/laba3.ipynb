{
 "cells": [
  {
   "cell_type": "markdown",
   "metadata": {},
   "source": [
    "##### Вариант 28\n",
    "###### В приведенной таблице даны значения урожайности картофеля (тыс. тонн с гектара) в зависимости от сорта картофеля (фактор А) и типа примененного удобрения (фактор В). \n",
    "##### С помощью двухфакторного дисперсионного анализа без повторных измерения выяснить:\n",
    "###### а. значимы ли различия в средней урожайности различных сортов картофеля независимо от типа удобрения;\n",
    "###### б. значимо ли влияние типа применяемого удобрения на урожайность независимо от сорта."
   ]
  },
  {
   "cell_type": "markdown",
   "metadata": {},
   "source": [
    "###### |----|--**B1**--|--**B2**--|--**B3**--|--**B4**--|\n",
    "###### | **A1**| 5.265  | 6.998  | 6.032  | 8.851  |\n",
    "###### | **A2**| 9.656  | 7.239  | 7.552  | 9.684  |\n",
    "###### | **A3**| 9.16   | 8.084  | 10.504 | 9.045  |"
   ]
  },
  {
   "cell_type": "code",
   "execution_count": 1,
   "metadata": {},
   "outputs": [],
   "source": [
    "import pandas as pd\n",
    "import statsmodels.api as sm\n",
    "from statsmodels.formula.api import ols\n",
    "import numpy as np"
   ]
  },
  {
   "cell_type": "code",
   "execution_count": 18,
   "metadata": {},
   "outputs": [
    {
     "data": {
      "text/html": [
       "<div>\n",
       "<style scoped>\n",
       "    .dataframe tbody tr th:only-of-type {\n",
       "        vertical-align: middle;\n",
       "    }\n",
       "\n",
       "    .dataframe tbody tr th {\n",
       "        vertical-align: top;\n",
       "    }\n",
       "\n",
       "    .dataframe thead th {\n",
       "        text-align: right;\n",
       "    }\n",
       "</style>\n",
       "<table border=\"1\" class=\"dataframe\">\n",
       "  <thead>\n",
       "    <tr style=\"text-align: right;\">\n",
       "      <th></th>\n",
       "      <th>A</th>\n",
       "      <th>B</th>\n",
       "      <th>Yield</th>\n",
       "    </tr>\n",
       "  </thead>\n",
       "  <tbody>\n",
       "    <tr>\n",
       "      <th>0</th>\n",
       "      <td>A1</td>\n",
       "      <td>B1</td>\n",
       "      <td>5.265</td>\n",
       "    </tr>\n",
       "    <tr>\n",
       "      <th>1</th>\n",
       "      <td>A2</td>\n",
       "      <td>B1</td>\n",
       "      <td>9.656</td>\n",
       "    </tr>\n",
       "    <tr>\n",
       "      <th>2</th>\n",
       "      <td>A3</td>\n",
       "      <td>B1</td>\n",
       "      <td>9.160</td>\n",
       "    </tr>\n",
       "    <tr>\n",
       "      <th>3</th>\n",
       "      <td>A1</td>\n",
       "      <td>B2</td>\n",
       "      <td>6.998</td>\n",
       "    </tr>\n",
       "    <tr>\n",
       "      <th>4</th>\n",
       "      <td>A2</td>\n",
       "      <td>B2</td>\n",
       "      <td>7.239</td>\n",
       "    </tr>\n",
       "  </tbody>\n",
       "</table>\n",
       "</div>"
      ],
      "text/plain": [
       "    A   B  Yield\n",
       "0  A1  B1  5.265\n",
       "1  A2  B1  9.656\n",
       "2  A3  B1  9.160\n",
       "3  A1  B2  6.998\n",
       "4  A2  B2  7.239"
      ]
     },
     "execution_count": 18,
     "metadata": {},
     "output_type": "execute_result"
    }
   ],
   "source": [
    "data = {\n",
    "    'B1': [5.265, 9.656, 9.16],\n",
    "    'B2': [6.998, 7.239, 8.084],\n",
    "    'B3': [6.032, 7.552, 10.504],\n",
    "    'B4': [8.851, 9.684, 9.045]\n",
    "}\n",
    "\n",
    "df = pd.DataFrame(data, index=['A1', 'A2', 'A3']).reset_index()\n",
    "df = df.melt(id_vars='index', var_name='B', value_name='Yield')\n",
    "df.rename(columns={'index': 'A'}, inplace=True)\n",
    "\n",
    "df.head()"
   ]
  },
  {
   "cell_type": "markdown",
   "metadata": {},
   "source": [
    "###### Проведение двухфакторного дисперсионного анализа c помощью модели ANOVA без взаимодействия"
   ]
  },
  {
   "cell_type": "code",
   "execution_count": 22,
   "metadata": {},
   "outputs": [
    {
     "name": "stdout",
     "output_type": "stream",
     "text": [
      "             sum_sq   df         F    PR(>F)\n",
      "C(A)      12.411756  2.0  3.537514  0.096633\n",
      "C(B)       4.859507  3.0  0.923349  0.484536\n",
      "Residual  10.525830  6.0       NaN       NaN\n"
     ]
    }
   ],
   "source": [
    "model = ols('Yield ~ C(A) + C(B)', data=df).fit()\n",
    "anova_table = sm.stats.anova_lm(model, typ=2)\n",
    "print(anova_table)"
   ]
  },
  {
   "cell_type": "markdown",
   "metadata": {},
   "source": [
    "##### Выводы\n",
    "\n",
    "##### 1. Влияние фактора A (Сорт картофеля):\n",
    "###### Сумма квадратов (sum_sq): 12.411756\n",
    "###### Степени свободы (df): 2.0\n",
    "###### F-статистика (F): 3.537514\n",
    "###### p-значение (PR(>F)): 0.096633\n",
    "###### p-значение для фактора A (0.096633) больше стандартного уровня значимости 0.05, что указывает на то, что различия в средней урожайности между сортами картофеля не являются статистически значимыми на уровне 5%. Однако, p-значение близко к этому уровню.\n",
    "\n",
    "##### 2. Влияние фактора B (Тип удобрения):\n",
    "###### Сумма квадратов (sum_sq): 4.859507\n",
    "###### Степени свободы (df): 3.0\n",
    "###### F-статистика (F): 0.923349\n",
    "###### p-значение (PR(>F)): 0.484536\n",
    "###### p-значение для фактора B (0.484536) значительно больше 0.05, что указывает на то, что различия в средней урожайности между типами удобрений не являются статистически значимыми.\n",
    "\n",
    "##### 3. Остаточная дисперсия:\n",
    "###### Сумма квадратов (Residual): 10.525830\n",
    "###### Степени свободы (df): 6.0\n",
    "###### Остаточная дисперсия показывает, что есть вариация в данных, которая не объясняется факторами A и B.\n",
    "\n",
    "##### Итог\n",
    "###### В выборке не было найдено статистически значимых различий в урожайности картофеля в зависимости от сорта и типа удобрения. Фактор A показывает тенденцию к значимости. Фактор B не показал значимого влияния на урожайность."
   ]
  }
 ],
 "metadata": {
  "kernelspec": {
   "display_name": "venv",
   "language": "python",
   "name": "python3"
  },
  "language_info": {
   "codemirror_mode": {
    "name": "ipython",
    "version": 3
   },
   "file_extension": ".py",
   "mimetype": "text/x-python",
   "name": "python",
   "nbconvert_exporter": "python",
   "pygments_lexer": "ipython3",
   "version": "3.12.4"
  }
 },
 "nbformat": 4,
 "nbformat_minor": 2
}
